{
 "cells": [
  {
   "cell_type": "code",
   "execution_count": 35,
   "id": "structured-hamburg",
   "metadata": {},
   "outputs": [],
   "source": [
    "import numpy as np\n",
    "import pandas as pd\n",
    "\n",
    "data = ['0']\n",
    "for i in range(1,4):\n",
    "    data.append(pd.read_csv('flow' + str(i) + '.dat', sep='\\t', header=None))\n",
    "\n",
    "for i in range(1,4):\n",
    "    data[i][1] = data[i][1].rolling(100, center=True, min_periods=1).mean()\n",
    "    data[i].to_csv('flow' + str(i) + '.dat2', sep='\\t', header=None)\n"
   ]
  },
  {
   "cell_type": "code",
   "execution_count": null,
   "id": "balanced-house",
   "metadata": {},
   "outputs": [],
   "source": []
  }
 ],
 "metadata": {
  "kernelspec": {
   "display_name": "Python 3",
   "language": "python",
   "name": "python3"
  },
  "language_info": {
   "codemirror_mode": {
    "name": "ipython",
    "version": 3
   },
   "file_extension": ".py",
   "mimetype": "text/x-python",
   "name": "python",
   "nbconvert_exporter": "python",
   "pygments_lexer": "ipython3",
   "version": "3.6.5"
  }
 },
 "nbformat": 4,
 "nbformat_minor": 5
}
